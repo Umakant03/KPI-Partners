{
 "cells": [
  {
   "cell_type": "markdown",
   "id": "1d29376d",
   "metadata": {},
   "source": [
    "### Working with Files "
   ]
  },
  {
   "cell_type": "code",
   "execution_count": 1,
   "id": "53b548cd",
   "metadata": {},
   "outputs": [],
   "source": [
    "import os"
   ]
  },
  {
   "cell_type": "markdown",
   "id": "ad6d4b3c",
   "metadata": {},
   "source": [
    "#### Getting the Current working directory\n",
    "To get the location of the current working directory os.getcwd() is used"
   ]
  },
  {
   "cell_type": "code",
   "execution_count": 2,
   "id": "e253e7b4",
   "metadata": {},
   "outputs": [
    {
     "name": "stdout",
     "output_type": "stream",
     "text": [
      "Current working directory: C:\\Users\\UmakantYadav\n"
     ]
    }
   ],
   "source": [
    "cwd = os.getcwd() # Get the current working \n",
    "print(\"Current working directory:\", cwd)"
   ]
  },
  {
   "cell_type": "markdown",
   "id": "d23071b7",
   "metadata": {},
   "source": [
    "#### Changing the Current working directory"
   ]
  },
  {
   "cell_type": "markdown",
   "id": "bb500e88",
   "metadata": {},
   "source": [
    "To change the current working directory(CWD) os.chdir() method is used. This method changes the CWD to a specified path. It only takes a single argument as a new directory path."
   ]
  },
  {
   "cell_type": "code",
   "execution_count": 3,
   "id": "b70d25a5",
   "metadata": {},
   "outputs": [
    {
     "name": "stdout",
     "output_type": "stream",
     "text": [
      "Current working directory before\n",
      "C:\\Users\\UmakantYadav\n",
      "\n",
      "Current working directory before\n",
      "C:\\Users\n",
      "\n"
     ]
    }
   ],
   "source": [
    "def current_path():\n",
    "    print(\"Current working directory before\")\n",
    "    print(os.getcwd())\n",
    "    print()\n",
    "   \n",
    "   \n",
    " \n",
    "# Printing CWD before\n",
    "current_path()\n",
    "   \n",
    "# Changing the CWD\n",
    "os.chdir('../')\n",
    "   \n",
    "# Printing CWD after\n",
    "current_path()"
   ]
  },
  {
   "cell_type": "markdown",
   "id": "dde0fd48",
   "metadata": {},
   "source": [
    "### Creating a Directory"
   ]
  },
  {
   "cell_type": "markdown",
   "id": "b95412a0",
   "metadata": {},
   "source": [
    "There are different methods available in the OS module for creating a directory. These are –\n",
    "* os.mkdir()\n",
    "* os.makedirs()"
   ]
  },
  {
   "cell_type": "code",
   "execution_count": 4,
   "id": "0caf0003",
   "metadata": {},
   "outputs": [],
   "source": [
    "parent_path='C:\\\\Users\\\\UmakantYadav\\\\Documents'"
   ]
  },
  {
   "cell_type": "code",
   "execution_count": 5,
   "id": "b91dd45e",
   "metadata": {},
   "outputs": [
    {
     "name": "stdout",
     "output_type": "stream",
     "text": [
      "Directory 'umakant' created\n"
     ]
    }
   ],
   "source": []
  },
  {
   "cell_type": "markdown",
   "id": "a7fe32db",
   "metadata": {},
   "source": [
    "#### Using os.mkdir()"
   ]
  },
  {
   "cell_type": "markdown",
   "id": "6f629e77",
   "metadata": {},
   "source": [
    "os.mkdir() method in Python is used to create a directory named path with the specified numeric mode.<br> This method raises FileExistsError if the directory to be created already exists."
   ]
  },
  {
   "cell_type": "code",
   "execution_count": 8,
   "id": "4c2b4119",
   "metadata": {},
   "outputs": [
    {
     "name": "stdout",
     "output_type": "stream",
     "text": [
      "Directory 'music' created\n"
     ]
    }
   ],
   "source": [
    "import os\n",
    "directory=\"music\"\n",
    "parent_path='C:\\\\Users\\\\UmakantYadav\\\\Documents'\n",
    "path=os.path.join(parent_path,directory)\n",
    "os.mkdir(path)\n",
    "print(\"Directory '% s' created\" % directory)"
   ]
  },
  {
   "cell_type": "markdown",
   "id": "4cf1870d",
   "metadata": {},
   "source": [
    "#### Using os.makedirs()"
   ]
  },
  {
   "cell_type": "markdown",
   "id": "6f213794",
   "metadata": {},
   "source": [
    "os.makedirs() method in Python is used to create a directory recursively.<br> That means while making leaf directory if any intermediate-level directory is missing,<br> os.makedirs() method will create them all."
   ]
  },
  {
   "cell_type": "code",
   "execution_count": 10,
   "id": "d0d18a3d",
   "metadata": {},
   "outputs": [
    {
     "name": "stdout",
     "output_type": "stream",
     "text": [
      "Directory uma created\n",
      "Directory 'c' created\n"
     ]
    }
   ],
   "source": [
    "import os\n",
    "#leaf directory\n",
    "directory='uma'\n",
    "#parent directories\n",
    "parent_directory='C:\\\\Users\\\\UmakantYadav\\\\Documents\\\\umakant'\n",
    "#path\n",
    "path=os.path.join(parent_directory,directory)\n",
    "#create the directory 'uma'\n",
    "os.makedirs(path)\n",
    "print('Directory {} created'.format(directory))\n",
    "\n",
    "# Leaf directory\n",
    "directory = \"c\"\n",
    "     \n",
    "# Parent Directories\n",
    "parent_dir ='C:\\\\Users\\\\UmakantYadav\\\\Documents\\\\umakant\\\\uma'\n",
    "     \n",
    "# mode\n",
    "mode = 0o666\n",
    "     \n",
    "path = os.path.join(parent_dir, directory)\n",
    "     \n",
    "# Create the directory 'c'\n",
    "     \n",
    "os.makedirs(path, mode)\n",
    "print(\"Directory '% s' created\" % directory)\n"
   ]
  },
  {
   "cell_type": "markdown",
   "id": "b87f06ba",
   "metadata": {},
   "source": [
    "### Listing out Files and Directories with Python"
   ]
  },
  {
   "cell_type": "markdown",
   "id": "e26d8300",
   "metadata": {},
   "source": [
    "os.listdir() method in Python is used to get the list of all files and directories<br> in the specified directory. If we don’t specify any directory, then the list of<br>files and directories in the current working directory will be returned"
   ]
  },
  {
   "cell_type": "code",
   "execution_count": 14,
   "id": "600c1afe",
   "metadata": {},
   "outputs": [
    {
     "name": "stdout",
     "output_type": "stream",
     "text": [
      "Files and directories in ' C:\\Users\\UmakantYadav\\Documents ' :\n",
      "['Create a simple JUnit test case.docx', 'Custom Office Templates', 'desktop.ini', 'diagnosis.sql', 'doctor.sql', 'docx', 'GitHub', 'lab.sql', 'music', 'My Music', 'My Pictures', 'My Videos', 'OneNote Notebooks', 'Oracle_SQL_Code', 'patient.sql', 'Python_code', 'umakant', 'Zoom']\n"
     ]
    }
   ],
   "source": [
    "import os\n",
    "path=\"C:\\\\Users\\\\UmakantYadav\\\\Documents\"\n",
    "dir_list=os.listdir(path)\n",
    "\n",
    "print(\"Files and directories in '\", path, \"' :\")\n",
    " \n",
    "# print the list\n",
    "print(dir_list)"
   ]
  },
  {
   "cell_type": "markdown",
   "id": "fab695a1",
   "metadata": {},
   "source": [
    "### Deleting Directory or Files using Python"
   ]
  },
  {
   "cell_type": "markdown",
   "id": "89166c13",
   "metadata": {},
   "source": [
    "OS module proves different methods for removing directories and files in Python.<br>These are –\n",
    "* Using os.remove()\n",
    "* Using os.rmdir()"
   ]
  },
  {
   "cell_type": "markdown",
   "id": "492af457",
   "metadata": {},
   "source": [
    "#### Using os.remove()"
   ]
  },
  {
   "cell_type": "markdown",
   "id": "4b8711c6",
   "metadata": {},
   "source": [
    "os.remove() method in Python is used to remove or delete a file path.<br>This method can not remove or delete a directory.<br>If the specified path is a directory then OSError will be raised by the method."
   ]
  },
  {
   "cell_type": "code",
   "execution_count": 18,
   "id": "539ea695",
   "metadata": {},
   "outputs": [
    {
     "name": "stdout",
     "output_type": "stream",
     "text": [
      "Files in umakant directory\n",
      "['uma']\n"
     ]
    }
   ],
   "source": [
    "import os\n",
    "file=\"Text.txt\"\n",
    "location=\"C:\\\\Users\\\\UmakantYadav\\\\Documents\\\\umakant\"\n",
    "path=os.path.join(location,file)\n",
    "os.remove(path)\n",
    "\n",
    "#lets see the files in 'umakant directory'\n",
    "print(\"Files in umakant directory\")\n",
    "print(os.listdir(\"C:\\\\Users\\\\UmakantYadav\\\\Documents\\\\umakant\"))\n"
   ]
  },
  {
   "cell_type": "markdown",
   "id": "d1394adf",
   "metadata": {},
   "source": [
    "#### Using os.rmdir()"
   ]
  },
  {
   "cell_type": "markdown",
   "id": "55da3687",
   "metadata": {},
   "source": [
    "os.rmdir() method in Python is used to remove or delete an empty directory.<br>OSError will be raised if the specified path is not an empty directory."
   ]
  },
  {
   "cell_type": "code",
   "execution_count": 20,
   "id": "306ff007",
   "metadata": {},
   "outputs": [],
   "source": [
    "#remove directory name 'c'\n",
    "path=\"C:\\\\Users\\\\UmakantYadav\\\\Documents\\\\umakant\\\\uma\\\\c\"\n",
    "os.rmdir(path)"
   ]
  },
  {
   "cell_type": "code",
   "execution_count": 21,
   "id": "dd71f0b6",
   "metadata": {},
   "outputs": [],
   "source": [
    "#remove directory name 'uma'\n",
    "path=\"C:\\\\Users\\\\UmakantYadav\\\\Documents\\\\umakant\\\\uma\"\n",
    "os.rmdir(path)"
   ]
  },
  {
   "cell_type": "markdown",
   "id": "ec2a1659",
   "metadata": {},
   "source": [
    "### Working of open() function"
   ]
  },
  {
   "cell_type": "markdown",
   "id": "ae46993c",
   "metadata": {},
   "source": [
    "f = open(filename, mode)\n",
    "\n",
    "Where the following mode is supported:\n",
    "\n",
    " 1. r: open an existing file for a read operation.\n",
    " 1. w: open an existing file for a write operation. If the file already contains some data then it will be overridden. \n",
    " 1. a:open an existing file for append operation. It won’t override existing data.\n",
    " 1. r+:To read and write data into the file. The previous data in the file will not be deleted.\n",
    " 1. w+:To write and read data. It will override existing data.\n",
    " 1. a+:To append and read data from the file. It won’t override existing data."
   ]
  },
  {
   "cell_type": "code",
   "execution_count": 28,
   "id": "3bc6a391",
   "metadata": {},
   "outputs": [
    {
     "data": {
      "text/plain": [
       "'File handling is an important part of any web application.\\nPython has several functions for creating, reading, updating, and deleting files.\\nThe key function for working with files in Python is the open() function.\\nThe open() function takes two parameters; filename, and mode.\\nThere are four different methods (modes) for opening a file:'"
      ]
     },
     "execution_count": 28,
     "metadata": {},
     "output_type": "execute_result"
    }
   ],
   "source": [
    "#read the file\n",
    "f=open('C:\\\\Users\\\\UmakantYadav\\\\Documents\\\\umakant\\\\uma.txt','r')\n",
    "f.read()"
   ]
  },
  {
   "cell_type": "code",
   "execution_count": 29,
   "id": "918d0bcc",
   "metadata": {},
   "outputs": [
    {
     "data": {
      "text/plain": [
       "'File handl'"
      ]
     },
     "execution_count": 29,
     "metadata": {},
     "output_type": "execute_result"
    }
   ],
   "source": [
    "#Read Only Parts of the File\n",
    "#read() method only return number of charcter wa want to print\n",
    "f=open('C:\\\\Users\\\\UmakantYadav\\\\Documents\\\\umakant\\\\uma.txt','r')\n",
    "f.read(10)"
   ]
  },
  {
   "cell_type": "code",
   "execution_count": 30,
   "id": "75ec51ff",
   "metadata": {},
   "outputs": [
    {
     "data": {
      "text/plain": [
       "'File handling is an important part of any web application.\\n'"
      ]
     },
     "execution_count": 30,
     "metadata": {},
     "output_type": "execute_result"
    }
   ],
   "source": [
    "#Read Lines\n",
    "#You can return one line by using the readline() method\n",
    "f=open('C:\\\\Users\\\\UmakantYadav\\\\Documents\\\\umakant\\\\uma.txt','r')\n",
    "f.readline()"
   ]
  },
  {
   "cell_type": "code",
   "execution_count": 34,
   "id": "f2097737",
   "metadata": {},
   "outputs": [
    {
     "name": "stdout",
     "output_type": "stream",
     "text": [
      "File handling is an important part of any web application.\n",
      "\n",
      "Python has several functions for creating, reading, updating, and deleting files.\n",
      "\n"
     ]
    }
   ],
   "source": [
    "#By calling readline() two times, you can read the two first lines:\n",
    "f=open('C:\\\\Users\\\\UmakantYadav\\\\Documents\\\\umakant\\\\uma.txt','r')\n",
    "print(f.readline()) \n",
    "print(f.readline())"
   ]
  },
  {
   "cell_type": "code",
   "execution_count": 35,
   "id": "1ceb279a",
   "metadata": {},
   "outputs": [
    {
     "name": "stdout",
     "output_type": "stream",
     "text": [
      "File handling is an important part of any web application.\n",
      "\n",
      "Python has several functions for creating, reading, updating, and deleting files.\n",
      "\n",
      "The key function for working with files in Python is the open() function.\n",
      "\n",
      "The open() function takes two parameters; filename, and mode.\n",
      "\n",
      "There are four different methods (modes) for opening a file:\n"
     ]
    }
   ],
   "source": [
    "#Loop through the file line by line\n",
    "f=open('C:\\\\Users\\\\UmakantYadav\\\\Documents\\\\umakant\\\\uma.txt','r')\n",
    "for lines in f:\n",
    "    print(lines)"
   ]
  },
  {
   "cell_type": "code",
   "execution_count": 36,
   "id": "b098e804",
   "metadata": {},
   "outputs": [
    {
     "name": "stdout",
     "output_type": "stream",
     "text": [
      "File handling is an important part of any web application.\n",
      "\n",
      "Python has several functions for creating, reading, updating, and deleting files.\n",
      "\n",
      "The key function for working with files in Python is the open() function.\n",
      "\n",
      "The open() function takes two parameters; filename, and mode.\n",
      "\n",
      "There are four different methods (modes) for opening a file:\n"
     ]
    }
   ],
   "source": [
    "#close the file\n",
    "f=open('C:\\\\Users\\\\UmakantYadav\\\\Documents\\\\umakant\\\\uma.txt','r')\n",
    "for lines in f:\n",
    "    print(lines)\n",
    "f.close()"
   ]
  },
  {
   "cell_type": "markdown",
   "id": "d53f9385",
   "metadata": {},
   "source": [
    "#### Python File Write"
   ]
  },
  {
   "cell_type": "code",
   "execution_count": 38,
   "id": "f85c76bb",
   "metadata": {},
   "outputs": [],
   "source": [
    "#create a new file in python\n",
    "f=open('C:\\\\Users\\\\UmakantYadav\\\\Documents\\\\umakant\\\\hello.txt','x')"
   ]
  },
  {
   "cell_type": "code",
   "execution_count": 42,
   "id": "36b049cc",
   "metadata": {},
   "outputs": [
    {
     "name": "stdout",
     "output_type": "stream",
     "text": [
      "Now the file has more content!\n"
     ]
    }
   ],
   "source": [
    "f = open('C:\\\\Users\\\\UmakantYadav\\\\Documents\\\\umakant\\\\hello.txt', \"w\")\n",
    "f.write(\"Now the file has more content!\")\n",
    "f.close()\n",
    "\n",
    "#open and read the file after the appending:\n",
    "f = open('C:\\\\Users\\\\UmakantYadav\\\\Documents\\\\umakant\\\\hello.txt', \"r\")\n",
    "print(f.read())"
   ]
  },
  {
   "cell_type": "code",
   "execution_count": 43,
   "id": "2b5014c3",
   "metadata": {},
   "outputs": [
    {
     "name": "stdout",
     "output_type": "stream",
     "text": [
      "hii my name is umakant\n"
     ]
    }
   ],
   "source": [
    "f = open('C:\\\\Users\\\\UmakantYadav\\\\Documents\\\\umakant\\\\hello.txt', \"w\")\n",
    "f.write(\"hii my name is umakant\")\n",
    "f.close()\n",
    "\n",
    "#open and read the file after the appending:\n",
    "f = open('C:\\\\Users\\\\UmakantYadav\\\\Documents\\\\umakant\\\\hello.txt', \"r\")\n",
    "print(f.read())"
   ]
  },
  {
   "cell_type": "markdown",
   "id": "b515432a",
   "metadata": {},
   "source": [
    "Note: the \"w\" method will overwriting  the entire file."
   ]
  },
  {
   "cell_type": "code",
   "execution_count": 45,
   "id": "89293ff6",
   "metadata": {},
   "outputs": [
    {
     "name": "stdout",
     "output_type": "stream",
     "text": [
      "hii my name is umakanthii my name is umakantI am love to write code in pythonmy favourite is sqlhii my name is umakant\n",
      "I am love to write code in python\n",
      "my favourite is sql\n"
     ]
    }
   ],
   "source": [
    "#we will use 'a' i.e append to overcome the overwriting \n",
    "f = open('C:\\\\Users\\\\UmakantYadav\\\\Documents\\\\umakant\\\\hello.txt', \"a\")\n",
    "f.write(\"hii my name is umakant\\n\")\n",
    "f.write(\"I am love to write code in python\\n\")\n",
    "f.write(\"my favourite is sql\")\n",
    "f.close()\n",
    "\n",
    "#open and read the file after the appending:\n",
    "f = open('C:\\\\Users\\\\UmakantYadav\\\\Documents\\\\umakant\\\\hello.txt', \"r\")\n",
    "print(f.read())\n"
   ]
  },
  {
   "cell_type": "code",
   "execution_count": 47,
   "id": "2fba3956",
   "metadata": {},
   "outputs": [],
   "source": [
    "f.close()"
   ]
  },
  {
   "cell_type": "markdown",
   "id": "770e4cf4",
   "metadata": {},
   "source": [
    "#### Delete the file"
   ]
  },
  {
   "cell_type": "code",
   "execution_count": 48,
   "id": "2dfae38f",
   "metadata": {},
   "outputs": [],
   "source": [
    "#Check if File exist:\n",
    "import os\n",
    "if os.path.exists('C:\\\\Users\\\\UmakantYadav\\\\Documents\\\\umakant\\\\hello.txt'):\n",
    "  os.remove('C:\\\\Users\\\\UmakantYadav\\\\Documents\\\\umakant\\\\hello.txt')\n",
    "else:\n",
    "  print(\"The file does not exist\")"
   ]
  },
  {
   "cell_type": "code",
   "execution_count": null,
   "id": "efd64696",
   "metadata": {},
   "outputs": [],
   "source": []
  }
 ],
 "metadata": {
  "kernelspec": {
   "display_name": "Python 3 (ipykernel)",
   "language": "python",
   "name": "python3"
  },
  "language_info": {
   "codemirror_mode": {
    "name": "ipython",
    "version": 3
   },
   "file_extension": ".py",
   "mimetype": "text/x-python",
   "name": "python",
   "nbconvert_exporter": "python",
   "pygments_lexer": "ipython3",
   "version": "3.9.7"
  }
 },
 "nbformat": 4,
 "nbformat_minor": 5
}
