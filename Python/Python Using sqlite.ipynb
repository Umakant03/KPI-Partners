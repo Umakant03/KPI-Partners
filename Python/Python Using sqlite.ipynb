{
 "cells": [
  {
   "cell_type": "markdown",
   "id": "340e700e",
   "metadata": {},
   "source": [
    "#### DB Connection"
   ]
  },
  {
   "cell_type": "code",
   "execution_count": 6,
   "id": "b83883e4",
   "metadata": {},
   "outputs": [],
   "source": [
    "import sqlite3\n",
    "\n",
    "conn = sqlite3.connect('test.db')\n"
   ]
  },
  {
   "cell_type": "markdown",
   "id": "1e84f75a",
   "metadata": {},
   "source": [
    "#### Creating a Table COMPANY"
   ]
  },
  {
   "cell_type": "code",
   "execution_count": 10,
   "id": "e3e19ac1",
   "metadata": {},
   "outputs": [
    {
     "name": "stdout",
     "output_type": "stream",
     "text": [
      "Opened database successfully\n",
      "Table created successfully\n"
     ]
    }
   ],
   "source": [
    "import sqlite3\n",
    "\n",
    "conn = sqlite3.connect('test.db')\n",
    "print(\"Opened database successfully\")\n",
    "\n",
    "conn.execute('''CREATE TABLE COMPANY\n",
    "         (ID INT PRIMARY KEY     NOT NULL,\n",
    "         NAME           TEXT    NOT NULL,\n",
    "         AGE            INT     NOT NULL,\n",
    "         ADDRESS        CHAR(50),\n",
    "         SALARY         REAL);''')\n",
    "print(\"Table created successfully\")\n"
   ]
  },
  {
   "cell_type": "markdown",
   "id": "045b9216",
   "metadata": {},
   "source": [
    "#### Inserting Values INTO COMPANT Table"
   ]
  },
  {
   "cell_type": "code",
   "execution_count": 11,
   "id": "1650ffe2",
   "metadata": {},
   "outputs": [],
   "source": [
    "conn.execute(\"INSERT INTO COMPANY (ID,NAME,AGE,ADDRESS,SALARY) \\\n",
    "      VALUES (1, 'Paul', 32, 'California', 20000.00 )\");\n",
    "\n",
    "conn.execute(\"INSERT INTO COMPANY (ID,NAME,AGE,ADDRESS,SALARY) \\\n",
    "      VALUES (2, 'Allen', 25, 'Texas', 15000.00 )\");\n",
    "\n",
    "conn.execute(\"INSERT INTO COMPANY (ID,NAME,AGE,ADDRESS,SALARY) \\\n",
    "      VALUES (3, 'Teddy', 23, 'Norway', 20000.00 )\");\n",
    "\n",
    "conn.execute(\"INSERT INTO COMPANY (ID,NAME,AGE,ADDRESS,SALARY) \\\n",
    "      VALUES (4, 'Mark', 25, 'Rich-Mond ', 65000.00 )\");\n",
    "\n",
    "conn.commit()\n"
   ]
  },
  {
   "cell_type": "markdown",
   "id": "df3f2f14",
   "metadata": {},
   "source": [
    "#### Fetching the data from Database"
   ]
  },
  {
   "cell_type": "code",
   "execution_count": 29,
   "id": "fd87e286",
   "metadata": {},
   "outputs": [
    {
     "name": "stdout",
     "output_type": "stream",
     "text": [
      "   ID   NAME  AGE     ADDRESS   SALARY\n",
      "0   1   Paul   32  California  20000.0\n",
      "1   2  Allen   25       Texas  15000.0\n",
      "2   3  Teddy   23      Norway  20000.0\n",
      "3   4   Mark   25  Rich-Mond   65000.0\n"
     ]
    }
   ],
   "source": [
    "#printing data using Pandas\n",
    "query = \"SELECT * FROM COMPANY\"\n",
    "df = pd.read_sql(query, conn)\n",
    "print(df)\n"
   ]
  },
  {
   "cell_type": "markdown",
   "id": "25366d62",
   "metadata": {},
   "source": [
    "#### Updating Table Company"
   ]
  },
  {
   "cell_type": "code",
   "execution_count": 30,
   "id": "31700340",
   "metadata": {},
   "outputs": [
    {
     "data": {
      "text/plain": [
       "<function Connection.commit>"
      ]
     },
     "execution_count": 30,
     "metadata": {},
     "output_type": "execute_result"
    }
   ],
   "source": [
    "conn.execute(\"UPDATE COMPANY set SALARY = 25000.00 where ID = 1\")\n",
    "conn.commit\n"
   ]
  },
  {
   "cell_type": "code",
   "execution_count": 31,
   "id": "814ab5ff",
   "metadata": {},
   "outputs": [
    {
     "name": "stdout",
     "output_type": "stream",
     "text": [
      "   ID   NAME  AGE     ADDRESS   SALARY\n",
      "0   1   Paul   32  California  25000.0\n",
      "1   2  Allen   25       Texas  15000.0\n",
      "2   3  Teddy   23      Norway  20000.0\n",
      "3   4   Mark   25  Rich-Mond   65000.0\n"
     ]
    }
   ],
   "source": [
    "query = \"SELECT * FROM COMPANY\"\n",
    "df = pd.read_sql(query, conn)\n",
    "print(df)"
   ]
  },
  {
   "cell_type": "markdown",
   "id": "ee7cd596",
   "metadata": {},
   "source": [
    "#### Deleting rows from Company  table"
   ]
  },
  {
   "cell_type": "code",
   "execution_count": 33,
   "id": "a9e5861b",
   "metadata": {},
   "outputs": [
    {
     "data": {
      "text/plain": [
       "<function Connection.commit>"
      ]
     },
     "execution_count": 33,
     "metadata": {},
     "output_type": "execute_result"
    }
   ],
   "source": [
    "conn.execute(\"DELETE from COMPANY where ID = 2\")\n",
    "conn.commit"
   ]
  },
  {
   "cell_type": "code",
   "execution_count": 34,
   "id": "cf952318",
   "metadata": {},
   "outputs": [
    {
     "name": "stdout",
     "output_type": "stream",
     "text": [
      "   ID   NAME  AGE     ADDRESS   SALARY\n",
      "0   1   Paul   32  California  25000.0\n",
      "1   3  Teddy   23      Norway  20000.0\n",
      "2   4   Mark   25  Rich-Mond   65000.0\n"
     ]
    }
   ],
   "source": [
    "query = \"SELECT * FROM COMPANY\"\n",
    "df = pd.read_sql(query, conn)\n",
    "print(df)"
   ]
  },
  {
   "cell_type": "markdown",
   "id": "e0181e99",
   "metadata": {},
   "source": [
    "#### Query1:Get all the details of employee who earn more than 20k"
   ]
  },
  {
   "cell_type": "code",
   "execution_count": 36,
   "id": "53ee3ca7",
   "metadata": {},
   "outputs": [
    {
     "name": "stdout",
     "output_type": "stream",
     "text": [
      "   ID  NAME  AGE     ADDRESS   SALARY\n",
      "0   1  Paul   32  California  25000.0\n",
      "1   4  Mark   25  Rich-Mond   65000.0\n"
     ]
    }
   ],
   "source": [
    "query1=\"SELECT * FROM COMPANY WHERE SALARY>20000\"\n",
    "df = pd.read_sql(query1, conn)\n",
    "print(df)"
   ]
  },
  {
   "cell_type": "markdown",
   "id": "7e930956",
   "metadata": {},
   "source": [
    "#### Query2: Find the id,name and age of employee whose age is more than 25 year"
   ]
  },
  {
   "cell_type": "code",
   "execution_count": 37,
   "id": "f9eed935",
   "metadata": {},
   "outputs": [
    {
     "name": "stdout",
     "output_type": "stream",
     "text": [
      "   ID  NAME  AGE\n",
      "0   1  Paul   32\n"
     ]
    }
   ],
   "source": [
    "query2 = \"SELECT ID,NAME,AGE  FROM COMPANY WHERE AGE>25\"\n",
    "df = pd.read_sql(query2, conn)\n",
    "print(df)\n"
   ]
  }
 ],
 "metadata": {
  "kernelspec": {
   "display_name": "Python 3 (ipykernel)",
   "language": "python",
   "name": "python3"
  },
  "language_info": {
   "codemirror_mode": {
    "name": "ipython",
    "version": 3
   },
   "file_extension": ".py",
   "mimetype": "text/x-python",
   "name": "python",
   "nbconvert_exporter": "python",
   "pygments_lexer": "ipython3",
   "version": "3.9.7"
  }
 },
 "nbformat": 4,
 "nbformat_minor": 5
}
