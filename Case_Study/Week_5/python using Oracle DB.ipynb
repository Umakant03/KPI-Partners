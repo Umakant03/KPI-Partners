{
 "cells": [
  {
   "cell_type": "code",
   "execution_count": 18,
   "id": "b69548e4",
   "metadata": {},
   "outputs": [],
   "source": [
    "# importing module\n",
    "import cx_Oracle"
   ]
  },
  {
   "cell_type": "code",
   "execution_count": 27,
   "id": "aec52562",
   "metadata": {},
   "outputs": [],
   "source": [
    "#KPI-UMAKANTYADA 1521\n",
    "\n",
    "con = cx_Oracle.connect('UMA/root1@KPI-UMAKANTYADA:1521/xe')"
   ]
  },
  {
   "cell_type": "code",
   "execution_count": 28,
   "id": "7e34e196",
   "metadata": {},
   "outputs": [
    {
     "name": "stdout",
     "output_type": "stream",
     "text": [
      "11.2.0.2.0\n"
     ]
    }
   ],
   "source": [
    "#print connection version\n",
    "print(con.version)"
   ]
  },
  {
   "cell_type": "code",
   "execution_count": 29,
   "id": "bf148a6b",
   "metadata": {},
   "outputs": [],
   "source": [
    "# Now execute the sqlquery\n",
    "cursor = con.cursor()"
   ]
  },
  {
   "cell_type": "code",
   "execution_count": 30,
   "id": "b5816a1b",
   "metadata": {},
   "outputs": [],
   "source": [
    "import pandas as pd"
   ]
  },
  {
   "cell_type": "code",
   "execution_count": 31,
   "id": "1df5ab43",
   "metadata": {},
   "outputs": [],
   "source": [
    " # Creating a table employee\n",
    "cursor.execute(\"create table employee(empid integer primary key, name varchar2(30), salary number(10, 2))\")\n",
    "con.commit()"
   ]
  },
  {
   "cell_type": "code",
   "execution_count": 32,
   "id": "92daa4aa",
   "metadata": {},
   "outputs": [],
   "source": [
    "cursor.execute(\"INSERT INTO employee(empid,name,salary) \\\n",
    "      VALUES (1, 'Paul',20000.00 )\");\n",
    "\n",
    "cursor.execute(\"INSERT INTO employee(empid,name,salary) \\\n",
    "      VALUES (2, 'Allen',15000.00 )\");\n",
    "\n",
    "cursor.execute(\"INSERT INTO employee(empid,name,salary) \\\n",
    "      VALUES (3, 'Teddy',20000.00 )\");\n",
    "\n",
    "cursor.execute(\"INSERT INTO employee(empid,name,salary) \\\n",
    "      VALUES (4, 'Mark',65000.00 )\");\n",
    "\n",
    "con.commit()"
   ]
  },
  {
   "cell_type": "code",
   "execution_count": 33,
   "id": "f7080234",
   "metadata": {},
   "outputs": [],
   "source": [
    "df=pd.read_sql('select * from employee',con)"
   ]
  },
  {
   "cell_type": "code",
   "execution_count": 34,
   "id": "68485f9c",
   "metadata": {},
   "outputs": [
    {
     "data": {
      "text/html": [
       "<div>\n",
       "<style scoped>\n",
       "    .dataframe tbody tr th:only-of-type {\n",
       "        vertical-align: middle;\n",
       "    }\n",
       "\n",
       "    .dataframe tbody tr th {\n",
       "        vertical-align: top;\n",
       "    }\n",
       "\n",
       "    .dataframe thead th {\n",
       "        text-align: right;\n",
       "    }\n",
       "</style>\n",
       "<table border=\"1\" class=\"dataframe\">\n",
       "  <thead>\n",
       "    <tr style=\"text-align: right;\">\n",
       "      <th></th>\n",
       "      <th>EMPID</th>\n",
       "      <th>NAME</th>\n",
       "      <th>SALARY</th>\n",
       "    </tr>\n",
       "  </thead>\n",
       "  <tbody>\n",
       "    <tr>\n",
       "      <th>0</th>\n",
       "      <td>1</td>\n",
       "      <td>Paul</td>\n",
       "      <td>20000.0</td>\n",
       "    </tr>\n",
       "    <tr>\n",
       "      <th>1</th>\n",
       "      <td>2</td>\n",
       "      <td>Allen</td>\n",
       "      <td>15000.0</td>\n",
       "    </tr>\n",
       "    <tr>\n",
       "      <th>2</th>\n",
       "      <td>3</td>\n",
       "      <td>Teddy</td>\n",
       "      <td>20000.0</td>\n",
       "    </tr>\n",
       "    <tr>\n",
       "      <th>3</th>\n",
       "      <td>4</td>\n",
       "      <td>Mark</td>\n",
       "      <td>65000.0</td>\n",
       "    </tr>\n",
       "  </tbody>\n",
       "</table>\n",
       "</div>"
      ],
      "text/plain": [
       "   EMPID   NAME   SALARY\n",
       "0      1   Paul  20000.0\n",
       "1      2  Allen  15000.0\n",
       "2      3  Teddy  20000.0\n",
       "3      4   Mark  65000.0"
      ]
     },
     "execution_count": 34,
     "metadata": {},
     "output_type": "execute_result"
    }
   ],
   "source": [
    "df"
   ]
  },
  {
   "cell_type": "code",
   "execution_count": null,
   "id": "e329ef83",
   "metadata": {},
   "outputs": [],
   "source": []
  }
 ],
 "metadata": {
  "kernelspec": {
   "display_name": "Python 3 (ipykernel)",
   "language": "python",
   "name": "python3"
  },
  "language_info": {
   "codemirror_mode": {
    "name": "ipython",
    "version": 3
   },
   "file_extension": ".py",
   "mimetype": "text/x-python",
   "name": "python",
   "nbconvert_exporter": "python",
   "pygments_lexer": "ipython3",
   "version": "3.9.7"
  }
 },
 "nbformat": 4,
 "nbformat_minor": 5
}
