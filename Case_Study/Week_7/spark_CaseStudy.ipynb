{
 "cells": [
  {
   "cell_type": "code",
   "execution_count": 1,
   "id": "34d9a1da",
   "metadata": {},
   "outputs": [],
   "source": [
    "#importing libray\n",
    "import findspark\n",
    "findspark.init()"
   ]
  },
  {
   "cell_type": "markdown",
   "id": "8215c562",
   "metadata": {},
   "source": [
    "#### 1.\tClean and Transform data for proper processing and getting complete insights without any garbage values"
   ]
  },
  {
   "cell_type": "code",
   "execution_count": 2,
   "id": "86885ee0",
   "metadata": {},
   "outputs": [],
   "source": [
    "import pyspark \n",
    "from pyspark.sql import SparkSession"
   ]
  },
  {
   "cell_type": "code",
   "execution_count": 3,
   "id": "24134008",
   "metadata": {},
   "outputs": [],
   "source": [
    "spark = SparkSession.Builder().master(\"local[1]\").appName(\"SparkByExamples.com\").getOrCreate()"
   ]
  },
  {
   "cell_type": "code",
   "execution_count": 7,
   "id": "d480e009",
   "metadata": {},
   "outputs": [
    {
     "name": "stdout",
     "output_type": "stream",
     "text": [
      "+------------+--------------------+--------------------+--------------------+--------------------+-----+--------+-------------+-------------+--------------------+--------------------+--------------------+---------------+------------------+\n",
      "|Complaint_ID|             Product|         Sub-product|               Issue|           Sub-issue|State|ZIP code|Submitted via|Date received|Date sent to company|             Company|    Company_response|Timely_response|Consumer disputed?|\n",
      "+------------+--------------------+--------------------+--------------------+--------------------+-----+--------+-------------+-------------+--------------------+--------------------+--------------------+---------------+------------------+\n",
      "|     1114245|     Debt collection|             Medical|Disclosure verifi...|Not given enough ...|   FL|   32219|          Web|   11/13/2014|          11/13/2014|Choice Recovery, Inc|Closed with expla...|            Yes|                NA|\n",
      "|     1114488|     Debt collection|             Medical|Disclosure verifi...|Right to dispute ...|   TX|   75006|          Web|   11/13/2014|          11/13/2014|Expert Global Sol...|         In progress|            Yes|                NA|\n",
      "|     1114255|Bank account or s...|    Checking account|Deposits and with...|                  NA|   NY|   11102|          Web|   11/13/2014|          11/13/2014|FNIS (Fidelity Na...|         In progress|            Yes|                NA|\n",
      "|     1115106|     Debt collection|Other (phone, hea...|Communication tac...|Frequent or repea...|   GA|   31721|          Web|   11/13/2014|          11/13/2014|Expert Global Sol...|         In progress|            Yes|                NA|\n",
      "|     1115890|    Credit reporting|                  NA|Incorrect informa...|Information is no...|   FL|   33461|          Web|   11/12/2014|          11/13/2014|          TransUnion|         In progress|            Yes|                NA|\n",
      "|     1114180|     Debt collection|         Credit card|Cont'd attempts c...|    Debt is not mine|   CA|   95035|          Web|   11/12/2014|          11/13/2014|Expert Global Sol...|         In progress|            Yes|                NA|\n",
      "|     1114124|       Consumer loan|        Vehicle loan|Managing the loan...|                  NA|   MI|   48430|          Fax|   11/12/2014|          11/13/2014|  Ally Financial Inc|         In progress|            Yes|                NA|\n",
      "|     1113211|     Debt collection|         Credit card|False statements ...|Indicated committ...|   MS|   39056|          Web|   11/12/2014|          11/12/2014|Premium Asset Ser...|         In progress|            Yes|                NA|\n",
      "|     1112443|       Consumer loan|    Installment loan|Managing the loan...|                  NA|   CA|   94509|          Web|   11/12/2014|          11/12/2014|  Ally Financial Inc|         In progress|            Yes|                NA|\n",
      "|     1112618|     Debt collection|             Medical|Disclosure verifi...|Not given enough ...|   FL|   34743|          Web|   11/12/2014|          11/12/2014|Enhanced Recovery...|Closed with non-m...|            Yes|                NA|\n",
      "|     1111987|    Credit reporting|                  NA|Credit reporting ...|No notice of inve...|   NJ|    8852|          Web|   11/12/2014|          11/12/2014|          TransUnion|Closed with expla...|            Yes|                NA|\n",
      "|     1113072|    Credit reporting|                  NA|Incorrect informa...|      Account status|   NY|   11514|          Web|   11/12/2014|          11/12/2014|          TransUnion|Closed with expla...|            Yes|                NA|\n",
      "|     1112733|     Debt collection|             Medical|Communication tac...|Used obscene/prof...|   WA|   98034|          Web|   11/12/2014|          11/12/2014|Renton Collection...|Closed with expla...|            Yes|                NA|\n",
      "|     1112115|            Mortgage|Conventional fixe...|Loan modification...|                  NA|   NJ|    8527|          Web|   11/12/2014|          11/12/2014|             Seterus|Closed with expla...|            Yes|                NA|\n",
      "|     1112705|    Credit reporting|                  NA|Unable to get cre...|Problem getting r...|   CA|   90716|          Web|   11/12/2014|          11/12/2014|          TransUnion|Closed with expla...|            Yes|                NA|\n",
      "|     1113116|    Credit reporting|                  NA|Incorrect informa...|      Account status|   CT|    6242|          Web|   11/12/2014|          11/12/2014|          TransUnion|Closed with expla...|            Yes|                NA|\n",
      "|     1112181|     Debt collection|         Credit card|Cont'd attempts c...|    Debt is not mine|   FL|   34481|          Web|   11/12/2014|          11/12/2014|Commonwealth Fina...|Closed with expla...|            Yes|                NA|\n",
      "|     1113153|     Debt collection|Other (phone, hea...|Cont'd attempts c...|       Debt was paid|   GA|   30345|          Web|   11/12/2014|          11/12/2014|   EOS Holdings, Inc|Closed with expla...|            Yes|                NA|\n",
      "|     1112011|     Debt collection|             Medical|Cont'd attempts c...|Debt resulted fro...|   SC|   29360|          Web|   11/12/2014|          11/12/2014|Revenue Recovery ...|Closed with expla...|            Yes|                NA|\n",
      "|     1111995|    Credit reporting|                  NA|Credit reporting ...|Problem with stat...|   CA|   92809|          Web|   11/12/2014|          11/12/2014|          TransUnion|Closed with expla...|            Yes|                NA|\n",
      "+------------+--------------------+--------------------+--------------------+--------------------+-----+--------+-------------+-------------+--------------------+--------------------+--------------------+---------------+------------------+\n",
      "only showing top 20 rows\n",
      "\n"
     ]
    },
    {
     "data": {
      "text/plain": [
       "312912"
      ]
     },
     "execution_count": 7,
     "metadata": {},
     "output_type": "execute_result"
    }
   ],
   "source": [
    "df=spark.read.options(header='True',inferSchema='True').csv(r'C:\\Users\\UmakantYadav\\Desktop\\KPI-Partners\\Spark\\CaseStudy\\complaints.csv.xls')\n",
    "df.show()\n",
    "df.count()"
   ]
  },
  {
   "cell_type": "markdown",
   "id": "1b3b4ff7",
   "metadata": {},
   "source": [
    "#### 2.\tFind the number of complaints for which the Company response is currently \"in progress\"."
   ]
  },
  {
   "cell_type": "code",
   "execution_count": 8,
   "id": "8c0bd1e6",
   "metadata": {},
   "outputs": [
    {
     "name": "stdout",
     "output_type": "stream",
     "text": [
      "+-------------------+\n",
      "|count(Complaint_ID)|\n",
      "+-------------------+\n",
      "|               2612|\n",
      "+-------------------+\n",
      "\n"
     ]
    }
   ],
   "source": [
    "df.createOrReplaceTempView(\"facts\")\n",
    "df= spark.sql(\"select count(Complaint_ID) from facts where Company_response='In progress' \")\n",
    "df.show()"
   ]
  },
  {
   "cell_type": "markdown",
   "id": "4a20b37f",
   "metadata": {},
   "source": [
    "#### 3.\tWhich company has the maximum consumer complaints."
   ]
  },
  {
   "cell_type": "code",
   "execution_count": 26,
   "id": "e74889ac",
   "metadata": {},
   "outputs": [
    {
     "name": "stdout",
     "output_type": "stream",
     "text": [
      "+---------------+-----------+\n",
      "|        company|no_of_issue|\n",
      "+---------------+-----------+\n",
      "|Bank of America|      20038|\n",
      "+---------------+-----------+\n",
      "\n"
     ]
    }
   ],
   "source": [
    "spark.sql(\"select company, count(issue) as no_of_issue from facts group by company, issue order by no_of_issue desc limit 1\").show()"
   ]
  },
  {
   "cell_type": "markdown",
   "id": "7db36441",
   "metadata": {},
   "source": [
    "#### 4.\tWhich Companies is able to solve issues of customers (on the terms of Company response and timely response)"
   ]
  },
  {
   "cell_type": "code",
   "execution_count": 35,
   "id": "6b5a6cf1",
   "metadata": {},
   "outputs": [
    {
     "name": "stdout",
     "output_type": "stream",
     "text": [
      "+--------------------+\n",
      "|             company|\n",
      "+--------------------+\n",
      "|Praxis Financial ...|\n",
      "|Worldwide Process...|\n",
      "|Law Office of Joe...|\n",
      "|       Loan To Learn|\n",
      "|Array Services Gr...|\n",
      "|       PlusFour, Inc|\n",
      "|Investigation & R...|\n",
      "|F&L Marketing Ent...|\n",
      "|Greenlight Financial|\n",
      "|Lincoln Mortgage ...|\n",
      "|    Security Finance|\n",
      "|Holloway & Moxley...|\n",
      "|   Toll Brothers Inc|\n",
      "|Brazos Higher Edu...|\n",
      "|Capital Markets C...|\n",
      "|Law Office of Har...|\n",
      "|  BAM Financial, LLC|\n",
      "|Richard A Weidel ...|\n",
      "|Collection Bureau...|\n",
      "|GLOBAL SOLUTION B...|\n",
      "+--------------------+\n",
      "only showing top 20 rows\n",
      "\n"
     ]
    }
   ],
   "source": [
    "spark.sql(\"select company from facts where company_response='Closed with explanation' and timely_response='Yes' group by company\").show()"
   ]
  },
  {
   "cell_type": "markdown",
   "id": "184f1510",
   "metadata": {},
   "source": [
    "#### 5.\tWhich companies are having least response time for a complaint raised?"
   ]
  },
  {
   "cell_type": "code",
   "execution_count": 31,
   "id": "2b66602a",
   "metadata": {},
   "outputs": [
    {
     "name": "stdout",
     "output_type": "stream",
     "text": [
      "+--------------------+\n",
      "|             company|\n",
      "+--------------------+\n",
      "|JA Cambece Law Of...|\n",
      "|  BlueChip Financial|\n",
      "|FEDERAL PACIFIC C...|\n",
      "|Royal United Mort...|\n",
      "| Suttell & Hammer PS|\n",
      "|            RFNA, LP|\n",
      "|Blatt, Hasenmille...|\n",
      "|Midway Resolution...|\n",
      "|     TrueAccord Corp|\n",
      "|The McHughes Law ...|\n",
      "|Habitat for Humanity|\n",
      "|Professional Reco...|\n",
      "|Investigation & R...|\n",
      "|       RCO Legal, PS|\n",
      "|       BluFi Lending|\n",
      "|Old Republic Nati...|\n",
      "|           Americash|\n",
      "|Turning Point Sol...|\n",
      "|Credit Bureau of ...|\n",
      "|P&B Capital Group...|\n",
      "+--------------------+\n",
      "only showing top 20 rows\n",
      "\n"
     ]
    }
   ],
   "source": [
    " spark.sql(\"select company from facts where timely_response='Yes' group by company,timely_response\").show()"
   ]
  },
  {
   "cell_type": "markdown",
   "id": "2e9fd80e",
   "metadata": {},
   "source": [
    "#### 6.\tFind the issue that occurred mostly."
   ]
  },
  {
   "cell_type": "code",
   "execution_count": 15,
   "id": "b6725875",
   "metadata": {},
   "outputs": [
    {
     "name": "stdout",
     "output_type": "stream",
     "text": [
      "+--------------------+\n",
      "|               Issue|\n",
      "+--------------------+\n",
      "|Loan modification...|\n",
      "+--------------------+\n",
      "\n"
     ]
    }
   ],
   "source": [
    " spark.sql(\"SELECT Issue from (select Issue,COUNT(Issue) from facts group by Issue order by COUNT(Issue) DESC) LIMIT 1\").show()"
   ]
  },
  {
   "cell_type": "code",
   "execution_count": null,
   "id": "dd2672e7",
   "metadata": {},
   "outputs": [],
   "source": []
  }
 ],
 "metadata": {
  "kernelspec": {
   "display_name": "Python 3 (ipykernel)",
   "language": "python",
   "name": "python3"
  },
  "language_info": {
   "codemirror_mode": {
    "name": "ipython",
    "version": 3
   },
   "file_extension": ".py",
   "mimetype": "text/x-python",
   "name": "python",
   "nbconvert_exporter": "python",
   "pygments_lexer": "ipython3",
   "version": "3.9.7"
  }
 },
 "nbformat": 4,
 "nbformat_minor": 5
}
