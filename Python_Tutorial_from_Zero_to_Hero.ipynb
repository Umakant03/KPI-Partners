{
  "nbformat": 4,
  "nbformat_minor": 0,
  "metadata": {
    "colab": {
      "name": "Python Tutorial from Zero to Hero.ipynb",
      "provenance": [],
      "collapsed_sections": [],
      "authorship_tag": "ABX9TyN/z+QmpwflsaZxLmh3BLPJ",
      "include_colab_link": true
    },
    "kernelspec": {
      "name": "python3",
      "display_name": "Python 3"
    },
    "language_info": {
      "name": "python"
    }
  },
  "cells": [
    {
      "cell_type": "markdown",
      "metadata": {
        "id": "view-in-github",
        "colab_type": "text"
      },
      "source": [
        "<a href=\"https://colab.research.google.com/github/Umakant03/KPI-Partners/blob/main/Python_Tutorial_from_Zero_to_Hero.ipynb\" target=\"_parent\"><img src=\"https://colab.research.google.com/assets/colab-badge.svg\" alt=\"Open In Colab\"/></a>"
      ]
    },
    {
      "cell_type": "markdown",
      "source": [
        "Python Output Using print() function"
      ],
      "metadata": {
        "id": "SitC8ovqok5w"
      }
    },
    {
      "cell_type": "code",
      "source": [
        "print(\"Hello Umakant! welcome to the python tutorial\")"
      ],
      "metadata": {
        "colab": {
          "base_uri": "https://localhost:8080/"
        },
        "id": "zRW99cfIomHN",
        "outputId": "b955b252-c580-4a9a-f760-92074e1946a0"
      },
      "execution_count": null,
      "outputs": [
        {
          "output_type": "stream",
          "name": "stdout",
          "text": [
            "Hello Umakant! welcome to the python tutorial\n"
          ]
        }
      ]
    },
    {
      "cell_type": "code",
      "source": [
        "a=5\n",
        "print(\"Print the value of a is\",a)"
      ],
      "metadata": {
        "colab": {
          "base_uri": "https://localhost:8080/"
        },
        "id": "J6hWMGexopLm",
        "outputId": "2279eaad-ad30-4541-b84d-d9b736b4c6be"
      },
      "execution_count": null,
      "outputs": [
        {
          "output_type": "stream",
          "name": "stdout",
          "text": [
            "Print the value of a is 5\n"
          ]
        }
      ]
    },
    {
      "cell_type": "code",
      "source": [
        "x,y=5,6\n",
        "print(\"The value of x is {} and the value of y is {}\".format(x,y))"
      ],
      "metadata": {
        "colab": {
          "base_uri": "https://localhost:8080/"
        },
        "id": "Meyw2v92oyls",
        "outputId": "91d87174-a933-4f9f-fc79-81ed1fb5821c"
      },
      "execution_count": null,
      "outputs": [
        {
          "output_type": "stream",
          "name": "stdout",
          "text": [
            "The value of x is 5 and the value of y is 6\n"
          ]
        }
      ]
    },
    {
      "cell_type": "markdown",
      "source": [
        "### **Strings**"
      ],
      "metadata": {
        "id": "xLq3WZ0OkMFg"
      }
    },
    {
      "cell_type": "markdown",
      "source": [
        "Like many other popular programming languages, strings in Python are arrays of bytes representing unicode\n",
        "characters."
      ],
      "metadata": {
        "id": "FzWu6uzDlPMp"
      }
    },
    {
      "cell_type": "code",
      "source": [
        "greet=\"Good Morning Umakant\"\n",
        "print(greet)"
      ],
      "metadata": {
        "colab": {
          "base_uri": "https://localhost:8080/"
        },
        "id": "w-DMyk6ikTTt",
        "outputId": "408e6624-44f6-48f9-e615-f549f4c26fa3"
      },
      "execution_count": 11,
      "outputs": [
        {
          "output_type": "stream",
          "name": "stdout",
          "text": [
            "Good Morning Umakant\n"
          ]
        }
      ]
    },
    {
      "cell_type": "markdown",
      "source": [
        "Slicing"
      ],
      "metadata": {
        "id": "fO9lolLkt4JM"
      }
    },
    {
      "cell_type": "code",
      "source": [
        "greet[3]"
      ],
      "metadata": {
        "id": "rsn9Tvr5maDx",
        "colab": {
          "base_uri": "https://localhost:8080/",
          "height": 35
        },
        "outputId": "69b0fc47-4ba9-4bdb-fc26-77be367d307e"
      },
      "execution_count": 14,
      "outputs": [
        {
          "output_type": "execute_result",
          "data": {
            "application/vnd.google.colaboratory.intrinsic+json": {
              "type": "string"
            },
            "text/plain": [
              "'d'"
            ]
          },
          "metadata": {},
          "execution_count": 14
        }
      ]
    },
    {
      "cell_type": "code",
      "source": [
        "greet[0:5]"
      ],
      "metadata": {
        "colab": {
          "base_uri": "https://localhost:8080/",
          "height": 35
        },
        "id": "Y4Mb-vZ8poVT",
        "outputId": "2dcbfa30-ec49-4a0c-8e97-665c0ac66cdb"
      },
      "execution_count": 15,
      "outputs": [
        {
          "output_type": "execute_result",
          "data": {
            "application/vnd.google.colaboratory.intrinsic+json": {
              "type": "string"
            },
            "text/plain": [
              "'Good '"
            ]
          },
          "metadata": {},
          "execution_count": 15
        }
      ]
    },
    {
      "cell_type": "code",
      "source": [
        "greet[::]"
      ],
      "metadata": {
        "colab": {
          "base_uri": "https://localhost:8080/",
          "height": 35
        },
        "id": "0VUVkS9xpuvC",
        "outputId": "ab009fd0-151d-4287-e7e8-c112a2e93554"
      },
      "execution_count": 18,
      "outputs": [
        {
          "output_type": "execute_result",
          "data": {
            "application/vnd.google.colaboratory.intrinsic+json": {
              "type": "string"
            },
            "text/plain": [
              "'Good Morning Umakant'"
            ]
          },
          "metadata": {},
          "execution_count": 18
        }
      ]
    },
    {
      "cell_type": "code",
      "source": [
        "greet[:12]"
      ],
      "metadata": {
        "colab": {
          "base_uri": "https://localhost:8080/",
          "height": 35
        },
        "id": "MS2QtcqVpzOJ",
        "outputId": "2e62d96b-17c3-4e6a-ae02-05cfa5fed61f"
      },
      "execution_count": 20,
      "outputs": [
        {
          "output_type": "execute_result",
          "data": {
            "application/vnd.google.colaboratory.intrinsic+json": {
              "type": "string"
            },
            "text/plain": [
              "'Good Morning'"
            ]
          },
          "metadata": {},
          "execution_count": 20
        }
      ]
    },
    {
      "cell_type": "code",
      "source": [
        "#Negative indexing in String\n",
        "greet[-6:-1]"
      ],
      "metadata": {
        "colab": {
          "base_uri": "https://localhost:8080/",
          "height": 35
        },
        "id": "TzHGkNJsraob",
        "outputId": "190f998b-a3f5-48a3-a62e-7430cdc23699"
      },
      "execution_count": 29,
      "outputs": [
        {
          "output_type": "execute_result",
          "data": {
            "application/vnd.google.colaboratory.intrinsic+json": {
              "type": "string"
            },
            "text/plain": [
              "'makan'"
            ]
          },
          "metadata": {},
          "execution_count": 29
        }
      ]
    },
    {
      "cell_type": "code",
      "source": [
        "#reverse a string\n",
        "greet=\"Good Morning Umakant\"\n",
        "greet[::-1]"
      ],
      "metadata": {
        "colab": {
          "base_uri": "https://localhost:8080/",
          "height": 35
        },
        "id": "mXSeI7mrqBLj",
        "outputId": "9a355824-dfb1-4528-be08-8b16e6d619b3"
      },
      "execution_count": 30,
      "outputs": [
        {
          "output_type": "execute_result",
          "data": {
            "application/vnd.google.colaboratory.intrinsic+json": {
              "type": "string"
            },
            "text/plain": [
              "'tnakamU gninroM dooG'"
            ]
          },
          "metadata": {},
          "execution_count": 30
        }
      ]
    },
    {
      "cell_type": "markdown",
      "source": [
        "Looping Through a String"
      ],
      "metadata": {
        "id": "GJVI-QT0sVhk"
      }
    },
    {
      "cell_type": "code",
      "source": [
        "for i in greet:\n",
        "  print(i)"
      ],
      "metadata": {
        "colab": {
          "base_uri": "https://localhost:8080/"
        },
        "id": "dltnGyTQsPsL",
        "outputId": "e9a77ccd-5569-4ea3-eb1e-0b78ea98cc1d"
      },
      "execution_count": 32,
      "outputs": [
        {
          "output_type": "stream",
          "name": "stdout",
          "text": [
            "G\n",
            "o\n",
            "o\n",
            "d\n",
            " \n",
            "M\n",
            "o\n",
            "r\n",
            "n\n",
            "i\n",
            "n\n",
            "g\n",
            " \n",
            "U\n",
            "m\n",
            "a\n",
            "k\n",
            "a\n",
            "n\n",
            "t\n"
          ]
        }
      ]
    },
    {
      "cell_type": "markdown",
      "source": [
        "**String Length**\n",
        "\n",
        "To get the length of a string, use the len() function."
      ],
      "metadata": {
        "id": "P4x6EcJHsyKT"
      }
    },
    {
      "cell_type": "code",
      "source": [
        "print(len(greet))"
      ],
      "metadata": {
        "colab": {
          "base_uri": "https://localhost:8080/"
        },
        "id": "udEzVQhCs3ti",
        "outputId": "179cd180-6ec5-4c33-aac9-9db5f7c276da"
      },
      "execution_count": 33,
      "outputs": [
        {
          "output_type": "stream",
          "name": "stdout",
          "text": [
            "20\n"
          ]
        }
      ]
    },
    {
      "cell_type": "markdown",
      "source": [
        "**Check String**\n",
        "\n",
        "To check if a certain phrase or character is present in a string, we can use the keyword in.\n",
        "To check if a certain phrase or character is NOT present in a string, we can use the keyword not in."
      ],
      "metadata": {
        "id": "s7VEEeXwtHaj"
      }
    },
    {
      "cell_type": "code",
      "source": [
        "txt = \"The best things in life are free!\"\n",
        "\n",
        "if 'in' in txt:\n",
        "  print(\"Yes ! in is present\")\n",
        "else:\n",
        "  print(\"Text Not found\")"
      ],
      "metadata": {
        "colab": {
          "base_uri": "https://localhost:8080/"
        },
        "id": "T4fcVKgbs_QO",
        "outputId": "b5d2b2a1-ecd2-4b3a-80ea-73a707c4967f"
      },
      "execution_count": 35,
      "outputs": [
        {
          "output_type": "stream",
          "name": "stdout",
          "text": [
            "Yes ! in is present\n"
          ]
        }
      ]
    },
    {
      "cell_type": "code",
      "source": [
        "txt = \"The best things in life are free!\"\n",
        "\n",
        "if 'Good' not in txt:\n",
        "  print(\"Good is not in txt\")"
      ],
      "metadata": {
        "colab": {
          "base_uri": "https://localhost:8080/"
        },
        "id": "6_EJM6i5teqR",
        "outputId": "053bf8e5-8566-4ce7-8f72-d85c8a1c7fcc"
      },
      "execution_count": 36,
      "outputs": [
        {
          "output_type": "stream",
          "name": "stdout",
          "text": [
            "Good is not in txt\n"
          ]
        }
      ]
    },
    {
      "cell_type": "markdown",
      "source": [
        "Modify Strings"
      ],
      "metadata": {
        "id": "NV4juYVfuC0q"
      }
    },
    {
      "cell_type": "code",
      "source": [
        "intro=\"Hello everyone ,My name is Umakant Yadav\""
      ],
      "metadata": {
        "id": "DDsVg021tvld"
      },
      "execution_count": 38,
      "outputs": []
    },
    {
      "cell_type": "code",
      "source": [
        "#convert string into all UPPER Case\n",
        "intro.upper()"
      ],
      "metadata": {
        "colab": {
          "base_uri": "https://localhost:8080/",
          "height": 35
        },
        "id": "SMH9s21cuMJ9",
        "outputId": "f854b39c-3f58-484d-a34d-97c96bf99441"
      },
      "execution_count": 39,
      "outputs": [
        {
          "output_type": "execute_result",
          "data": {
            "application/vnd.google.colaboratory.intrinsic+json": {
              "type": "string"
            },
            "text/plain": [
              "'HELLO EVERYONE ,MY NAME IS UMAKANT YADAV'"
            ]
          },
          "metadata": {},
          "execution_count": 39
        }
      ]
    },
    {
      "cell_type": "code",
      "source": [
        "#convert string into all lower Case\n",
        "intro.lower()"
      ],
      "metadata": {
        "colab": {
          "base_uri": "https://localhost:8080/",
          "height": 35
        },
        "id": "Esra4JinuSTW",
        "outputId": "5b0edac6-0ada-4390-dee2-f11c3dabfba8"
      },
      "execution_count": 40,
      "outputs": [
        {
          "output_type": "execute_result",
          "data": {
            "application/vnd.google.colaboratory.intrinsic+json": {
              "type": "string"
            },
            "text/plain": [
              "'hello everyone ,my name is umakant yadav'"
            ]
          },
          "metadata": {},
          "execution_count": 40
        }
      ]
    },
    {
      "cell_type": "code",
      "source": [
        "#remove whitespace from starting and end of string using strip()\n",
        "intro=\" Hello everyone ,My name is Umakant Yadav \"\n",
        "intro.strip()"
      ],
      "metadata": {
        "colab": {
          "base_uri": "https://localhost:8080/",
          "height": 35
        },
        "id": "eWlV_K_ludzy",
        "outputId": "1400ba9e-a098-4d4c-875b-43fa8c449bb3"
      },
      "execution_count": 42,
      "outputs": [
        {
          "output_type": "execute_result",
          "data": {
            "application/vnd.google.colaboratory.intrinsic+json": {
              "type": "string"
            },
            "text/plain": [
              "'Hello everyone ,My name is Umakant Yadav'"
            ]
          },
          "metadata": {},
          "execution_count": 42
        }
      ]
    },
    {
      "cell_type": "code",
      "source": [
        "#Replace string\n",
        "intro.replace(\"everyone\",'everybody')"
      ],
      "metadata": {
        "colab": {
          "base_uri": "https://localhost:8080/",
          "height": 35
        },
        "id": "syE1VjbDumOe",
        "outputId": "9d631f75-b2cc-4356-f1e7-0562bf6f7cc6"
      },
      "execution_count": 43,
      "outputs": [
        {
          "output_type": "execute_result",
          "data": {
            "application/vnd.google.colaboratory.intrinsic+json": {
              "type": "string"
            },
            "text/plain": [
              "' Hello everybody ,My name is Umakant Yadav '"
            ]
          },
          "metadata": {},
          "execution_count": 43
        }
      ]
    },
    {
      "cell_type": "code",
      "source": [
        "#convert string to List using split()\n",
        "intro.split()"
      ],
      "metadata": {
        "colab": {
          "base_uri": "https://localhost:8080/"
        },
        "id": "Xq_qGPnpvF7E",
        "outputId": "f050649d-8e05-4ec4-ae98-5522576ed70c"
      },
      "execution_count": 44,
      "outputs": [
        {
          "output_type": "execute_result",
          "data": {
            "text/plain": [
              "['Hello', 'everyone', ',My', 'name', 'is', 'Umakant', 'Yadav']"
            ]
          },
          "metadata": {},
          "execution_count": 44
        }
      ]
    },
    {
      "cell_type": "markdown",
      "source": [
        "### **Lists**"
      ],
      "metadata": {
        "id": "c9pXXcRuvZay"
      }
    },
    {
      "cell_type": "code",
      "source": [
        "guru=['Umakant',23,5.4,'M']"
      ],
      "metadata": {
        "id": "CU92vvNVvOdl"
      },
      "execution_count": 46,
      "outputs": []
    },
    {
      "cell_type": "code",
      "source": [
        "print(guru)"
      ],
      "metadata": {
        "colab": {
          "base_uri": "https://localhost:8080/"
        },
        "id": "zRUgvgiGvppk",
        "outputId": "fad2ab93-f30b-4053-ebf2-32c5cab1a52d"
      },
      "execution_count": 47,
      "outputs": [
        {
          "output_type": "stream",
          "name": "stdout",
          "text": [
            "['Umakant', 23, 5.4, 'M']\n"
          ]
        }
      ]
    },
    {
      "cell_type": "markdown",
      "source": [
        "Access Items"
      ],
      "metadata": {
        "id": "V9a-iaqNwFT7"
      }
    },
    {
      "cell_type": "code",
      "source": [
        "guru[2]"
      ],
      "metadata": {
        "colab": {
          "base_uri": "https://localhost:8080/"
        },
        "id": "Jtq1dQ7hv3l3",
        "outputId": "a7e7f634-88fc-4eab-f076-607d09bf6d58"
      },
      "execution_count": 49,
      "outputs": [
        {
          "output_type": "execute_result",
          "data": {
            "text/plain": [
              "5.4"
            ]
          },
          "metadata": {},
          "execution_count": 49
        }
      ]
    },
    {
      "cell_type": "markdown",
      "source": [
        "Range of Indexes"
      ],
      "metadata": {
        "id": "pK5VZpYKwOSI"
      }
    },
    {
      "cell_type": "code",
      "source": [
        "guru[2:5]"
      ],
      "metadata": {
        "colab": {
          "base_uri": "https://localhost:8080/"
        },
        "id": "nr7H8qp9wKJ3",
        "outputId": "85d47828-1d03-4790-d9f7-9b86e222e543"
      },
      "execution_count": 50,
      "outputs": [
        {
          "output_type": "execute_result",
          "data": {
            "text/plain": [
              "[5.4, 'M']"
            ]
          },
          "metadata": {},
          "execution_count": 50
        }
      ]
    },
    {
      "cell_type": "code",
      "source": [
        "if 'M' in guru:\n",
        "  print(\"Yes!! M is in List guru\")"
      ],
      "metadata": {
        "colab": {
          "base_uri": "https://localhost:8080/"
        },
        "id": "Let3GsPWwRfC",
        "outputId": "debcb97d-7f3d-4b23-c6ed-9c791c3becd0"
      },
      "execution_count": 51,
      "outputs": [
        {
          "output_type": "stream",
          "name": "stdout",
          "text": [
            "Yes!! M is in List guru\n"
          ]
        }
      ]
    },
    {
      "cell_type": "code",
      "source": [
        "print(guru)"
      ],
      "metadata": {
        "colab": {
          "base_uri": "https://localhost:8080/"
        },
        "id": "5uwenxHcws76",
        "outputId": "dee3b4b7-a02d-423b-8636-51505d081674"
      },
      "execution_count": 54,
      "outputs": [
        {
          "output_type": "stream",
          "name": "stdout",
          "text": [
            "['Umakant', 'Sameer', 'Sameer', 23, 5.4, 'M']\n"
          ]
        }
      ]
    },
    {
      "cell_type": "code",
      "source": [
        "#inser item\n",
        "guru.insert(1,'Sameer')\n",
        "guru"
      ],
      "metadata": {
        "colab": {
          "base_uri": "https://localhost:8080/"
        },
        "id": "f7aKZ-tgwdZg",
        "outputId": "c4c52b66-3998-4a7a-e26f-8ce39f7fa865"
      },
      "execution_count": 53,
      "outputs": [
        {
          "output_type": "execute_result",
          "data": {
            "text/plain": [
              "['Umakant', 'Sameer', 'Sameer', 23, 5.4, 'M']"
            ]
          },
          "metadata": {},
          "execution_count": 53
        }
      ]
    },
    {
      "cell_type": "code",
      "source": [
        "#remove\n",
        "guru.remove('Sameer')"
      ],
      "metadata": {
        "id": "zcA1JjojwoOy"
      },
      "execution_count": 55,
      "outputs": []
    },
    {
      "cell_type": "code",
      "source": [
        "#append\n",
        "guru.append(\"Hii\")"
      ],
      "metadata": {
        "id": "_J9nBpfsw2a1"
      },
      "execution_count": 57,
      "outputs": []
    },
    {
      "cell_type": "code",
      "source": [
        "#pop\n",
        "guru.pop(5)\n",
        "guru"
      ],
      "metadata": {
        "colab": {
          "base_uri": "https://localhost:8080/"
        },
        "id": "YRtPvYKMw3cR",
        "outputId": "bfa2f92b-eb9f-4998-dc68-0952a32bfc20"
      },
      "execution_count": 59,
      "outputs": [
        {
          "output_type": "execute_result",
          "data": {
            "text/plain": [
              "['Umakant', 'Sameer', 23, 5.4, 'M']"
            ]
          },
          "metadata": {},
          "execution_count": 59
        }
      ]
    },
    {
      "cell_type": "code",
      "source": [
        "#The clear() method empties the list.\n",
        "#The list still remains, but it has no content\n",
        "guru.clear()"
      ],
      "metadata": {
        "id": "7WKKe1qTxAIu"
      },
      "execution_count": 63,
      "outputs": []
    },
    {
      "cell_type": "code",
      "source": [
        "guru"
      ],
      "metadata": {
        "colab": {
          "base_uri": "https://localhost:8080/"
        },
        "id": "s0ZWn7N8xXsK",
        "outputId": "2bfa790d-122b-413e-b3f3-6dc6d54a057d"
      },
      "execution_count": 64,
      "outputs": [
        {
          "output_type": "execute_result",
          "data": {
            "text/plain": [
              "[]"
            ]
          },
          "metadata": {},
          "execution_count": 64
        }
      ]
    },
    {
      "cell_type": "code",
      "source": [
        "#The del keyword can also delete the list completely\n",
        "guru=['Umakant', 'Sameer', 23, 5.4, 'M']\n",
        "del guru\n",
        "\n"
      ],
      "metadata": {
        "id": "k_D-mVFJxiBI"
      },
      "execution_count": 65,
      "outputs": []
    },
    {
      "cell_type": "code",
      "source": [
        "guru"
      ],
      "metadata": {
        "colab": {
          "base_uri": "https://localhost:8080/",
          "height": 166
        },
        "id": "9ZGcPRDJx6sV",
        "outputId": "5345df2e-a59f-4b48-9c3c-b01f34bca5e2"
      },
      "execution_count": 66,
      "outputs": [
        {
          "output_type": "error",
          "ename": "NameError",
          "evalue": "ignored",
          "traceback": [
            "\u001b[0;31m---------------------------------------------------------------------------\u001b[0m",
            "\u001b[0;31mNameError\u001b[0m                                 Traceback (most recent call last)",
            "\u001b[0;32m<ipython-input-66-7c1e510c5290>\u001b[0m in \u001b[0;36m<module>\u001b[0;34m()\u001b[0m\n\u001b[0;32m----> 1\u001b[0;31m \u001b[0mguru\u001b[0m\u001b[0;34m\u001b[0m\u001b[0;34m\u001b[0m\u001b[0m\n\u001b[0m",
            "\u001b[0;31mNameError\u001b[0m: name 'guru' is not defined"
          ]
        }
      ]
    },
    {
      "cell_type": "markdown",
      "source": [
        "Loop Lists"
      ],
      "metadata": {
        "id": "TYefOpq2zXN5"
      }
    },
    {
      "cell_type": "code",
      "source": [
        "guru=['Umakant', 'Sameer', 23, 5.4, 'M']\n",
        "for x in guru:\n",
        "  print(x)"
      ],
      "metadata": {
        "colab": {
          "base_uri": "https://localhost:8080/"
        },
        "id": "7wjMuaHFx70a",
        "outputId": "507f1cb6-f236-4bdb-939f-96dfee6bda2a"
      },
      "execution_count": 67,
      "outputs": [
        {
          "output_type": "stream",
          "name": "stdout",
          "text": [
            "Umakant\n",
            "Sameer\n",
            "23\n",
            "5.4\n",
            "M\n"
          ]
        }
      ]
    },
    {
      "cell_type": "code",
      "source": [
        "guru=['Umakant', 'Sameer', 23, 5.4, 'M']\n",
        "for i in range(len(guru)):\n",
        "  print(guru[i])"
      ],
      "metadata": {
        "colab": {
          "base_uri": "https://localhost:8080/"
        },
        "id": "7RnR9K-Zzhq6",
        "outputId": "a3a6dbbf-ef32-4fdd-a767-c24837a1304c"
      },
      "execution_count": 68,
      "outputs": [
        {
          "output_type": "stream",
          "name": "stdout",
          "text": [
            "Umakant\n",
            "Sameer\n",
            "23\n",
            "5.4\n",
            "M\n"
          ]
        }
      ]
    },
    {
      "cell_type": "code",
      "source": [
        "#Print all items, using a while loop to go through all the index numbers\n",
        "print(\"\\n\")\n",
        "thislist = [\"apple\", \"banana\", \"cherry\"]\n",
        "i = 0\n",
        "while i < len(thislist):\n",
        "  print(thislist[i])\n",
        "  i = i + 1\n",
        "\n"
      ],
      "metadata": {
        "colab": {
          "base_uri": "https://localhost:8080/"
        },
        "id": "cxd66ApF0As7",
        "outputId": "6b284c08-158e-4756-bb39-093ac88ee499"
      },
      "execution_count": 73,
      "outputs": [
        {
          "output_type": "stream",
          "name": "stdout",
          "text": [
            "\n",
            "\n",
            "apple\n",
            "banana\n",
            "cherry\n"
          ]
        }
      ]
    },
    {
      "cell_type": "code",
      "source": [
        "#Looping Using List Comprehension\n",
        "print(\"\\n\")\n",
        "thelist = [\"apple\", \"banana\", \"cherry\"]\n",
        "[x for x in thelist]"
      ],
      "metadata": {
        "colab": {
          "base_uri": "https://localhost:8080/"
        },
        "id": "EE9wxf7c0NNx",
        "outputId": "a9547521-8971-4fdb-e02c-058cbec98f6c"
      },
      "execution_count": 74,
      "outputs": [
        {
          "output_type": "stream",
          "name": "stdout",
          "text": [
            "\n",
            "\n"
          ]
        },
        {
          "output_type": "execute_result",
          "data": {
            "text/plain": [
              "['apple', 'banana', 'cherry']"
            ]
          },
          "metadata": {},
          "execution_count": 74
        }
      ]
    },
    {
      "cell_type": "markdown",
      "source": [
        "### **Loops**"
      ],
      "metadata": {
        "id": "_OWRbs2p1K7E"
      }
    },
    {
      "cell_type": "markdown",
      "source": [
        "Python has two primitive loop commands:\n",
        "\n",
        "while loops\n",
        "\n",
        "for loops"
      ],
      "metadata": {
        "id": "6BQvcP6M2D7C"
      }
    },
    {
      "cell_type": "markdown",
      "source": [
        "A for loop is used for iterating over a sequence (that is either a list, a tuple, a dictionary, a set, or a string)"
      ],
      "metadata": {
        "id": "MsneGeUH16qR"
      }
    },
    {
      "cell_type": "code",
      "source": [
        "fruits = [\"apple\", \"banana\", \"cherry\"]\n",
        "for x in fruits:\n",
        "  print(x)\n",
        "\n",
        "#Loop through the letters in the word \"banana\"\n",
        "print(\"\\n\")\n",
        "for x in \"banana\":\n",
        "  print(x)\n",
        "\n",
        "print(\"\\n\")\n",
        "for x in range(6):\n",
        "  print(x)\n",
        "\n",
        "print(\"\\n\")\n",
        "#Increment the sequence with a particualr value(default is 1)\n",
        "for x in range(2, 30, 3):\n",
        "  print(x)\n"
      ],
      "metadata": {
        "colab": {
          "base_uri": "https://localhost:8080/"
        },
        "id": "lyvOLvyN0npx",
        "outputId": "dab6b4d9-37b6-464b-d044-3ad31b78b7d3"
      },
      "execution_count": 76,
      "outputs": [
        {
          "output_type": "stream",
          "name": "stdout",
          "text": [
            "apple\n",
            "banana\n",
            "cherry\n",
            "\n",
            "\n",
            "b\n",
            "a\n",
            "n\n",
            "a\n",
            "n\n",
            "a\n",
            "\n",
            "\n",
            "0\n",
            "1\n",
            "2\n",
            "3\n",
            "4\n",
            "5\n",
            "\n",
            "\n",
            "2\n",
            "5\n",
            "8\n",
            "11\n",
            "14\n",
            "17\n",
            "20\n",
            "23\n",
            "26\n",
            "29\n"
          ]
        }
      ]
    },
    {
      "cell_type": "markdown",
      "source": [
        "The while Loop"
      ],
      "metadata": {
        "id": "UHfsRYYU3XV0"
      }
    },
    {
      "cell_type": "markdown",
      "source": [
        "With the while loop we can execute a set of statements as long as a condition is true"
      ],
      "metadata": {
        "id": "LnQuHbdS3dNh"
      }
    },
    {
      "cell_type": "code",
      "source": [
        "i=1\n",
        "while i <6:\n",
        "  print(i)\n",
        "  i +=1"
      ],
      "metadata": {
        "colab": {
          "base_uri": "https://localhost:8080/"
        },
        "id": "59V18KgL3a1s",
        "outputId": "1ed456f5-d497-49b1-f61e-0cd3301473b7"
      },
      "execution_count": 78,
      "outputs": [
        {
          "output_type": "stream",
          "name": "stdout",
          "text": [
            "1\n",
            "2\n",
            "3\n",
            "4\n",
            "5\n"
          ]
        }
      ]
    },
    {
      "cell_type": "markdown",
      "source": [
        "### **Capability3: Ablility to use Functions and Functional Programming**"
      ],
      "metadata": {
        "id": "kR8Cg3O55bEc"
      }
    },
    {
      "cell_type": "markdown",
      "source": [
        "## 1. Callable Objects"
      ],
      "metadata": {
        "id": "uwy-13VU5gwT"
      }
    },
    {
      "cell_type": "markdown",
      "source": [
        "\n",
        "\n",
        "*   Callable objects -> any object that can be invoked with the function operator \"()\"\n",
        "*   function operator is placed immediately following the name of the callable to invoke it.\n",
        "*  Python has four callable objects: functions, methods, classes, and some class instances.\n",
        "\n"
      ],
      "metadata": {
        "id": "64WzMqr65sSq"
      }
    },
    {
      "cell_type": "markdown",
      "source": [
        "Types:-"
      ],
      "metadata": {
        "id": "Avd34a726TEq"
      }
    },
    {
      "cell_type": "markdown",
      "source": [
        "1.1 Functions"
      ],
      "metadata": {
        "id": "3ZMpJqcG6Xi3"
      }
    },
    {
      "cell_type": "code",
      "source": [
        ""
      ],
      "metadata": {
        "id": "ZAl9QrGO3p5v"
      },
      "execution_count": null,
      "outputs": []
    }
  ]
}